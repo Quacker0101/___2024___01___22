{
 "cells": [
  {
   "cell_type": "code",
   "execution_count": 3,
   "metadata": {},
   "outputs": [
    {
     "name": "stdout",
     "output_type": "stream",
     "text": [
      "您的BMI:23.53\n",
      "提示:\n"
     ]
    },
    {
     "data": {
      "text/plain": [
       "23.529411764705884"
      ]
     },
     "execution_count": 3,
     "metadata": {},
     "output_type": "execute_result"
    }
   ],
   "source": [
    "height= eval(input(\"請輸入身高，單位為(公分):\"))\n",
    "weight= eval(input(\"請輸入體重，單位為(公斤)\"))\n",
    "\n",
    "bmi = weight / (height/100) ** 2\n",
    "message = \"\"\n",
    "print(f\"您的BMI:{bmi:.2f}\")\n",
    "print(f\"提示:{message}\")\n",
    "\n",
    "bmi"
   ]
  },
  {
   "cell_type": "code",
   "execution_count": null,
   "metadata": {},
   "outputs": [],
   "source": [
    "height= eval(input(\"請輸入身高，單位為(公分):\"))\n",
    "weight= eval(input(\"請輸入體重，單位為(公斤)\"))\n",
    "\n",
    "bmi = weight / (height/100) ** 2\n",
    "message = \"\"\n",
    "print(f\"您的BMI:{bmi:.2f}\")\n",
    "\n",
    "if bmi < 18.5:\n",
    "    message = \"過輕\"\n",
    "elif bmi < 24 :\n",
    "    message = \"正常\"\n",
    "elif bmi < 27 :\n",
    "    message = \"過重\"\n",
    "elif bmi < 30 :\n",
    "    message = \"輕度肥胖\"\n",
    "elif bmi < 35 :\n",
    "    message = \"重度肥胖\"\n",
    "    \n",
    "print(f\"提示:{message}\")\n",
    "\n"
   ]
  },
  {
   "cell_type": "code",
   "execution_count": 4,
   "metadata": {},
   "outputs": [
    {
     "name": "stdout",
     "output_type": "stream",
     "text": [
      "您的BMI:31.14\n",
      "提示:中度肥胖\n"
     ]
    }
   ],
   "source": [
    "height= eval(input(\"請輸入身高，單位為(公分):\"))\n",
    "weight= eval(input(\"請輸入體重，單位為(公斤)\"))\n",
    "\n",
    "bmi = weight / (height/100) ** 2\n",
    "message = \"\"\n",
    "print(f\"您的BMI:{bmi:.2f}\")\n",
    "\n",
    "if bmi >= 18.5 and bmi <= 24 :\n",
    "    message = \"正常\"\n",
    "elif bmi <= 24 and bmi < 27 :\n",
    "    message = \"過重\"\n",
    "elif bmi >= 30 and bmi < 35 :\n",
    "    message = \"中度肥胖\"\n",
    "elif bmi >= 35 :\n",
    "    message = \"重度肥胖\"\n",
    "elif bmi < 18.5 :\n",
    "    message = \"體重過輕\"\n",
    "elif bmi >= 27 and bmi < 30 :\n",
    "    message = \"輕度肥胖\"\n",
    "    \n",
    "print(f\"提示:{message}\")"
   ]
  },
  {
   "cell_type": "code",
   "execution_count": 7,
   "metadata": {},
   "outputs": [
    {
     "name": "stdout",
     "output_type": "stream",
     "text": [
      "您的BMI:15.92\n",
      "提示:體重過輕\n"
     ]
    }
   ],
   "source": [
    "height= eval(input(\"請輸入身高，單位為(公分):\"))\n",
    "weight= eval(input(\"請輸入體重，單位為(公斤)\"))\n",
    "\n",
    "bmi = weight / (height/100) ** 2\n",
    "message = \"\"\n",
    "print(f\"您的BMI:{bmi:.2f}\")\n",
    "\n",
    "if  18.5 <= bmi <= 24 :\n",
    "    message = \"正常\"\n",
    "elif 24 <= bmi < 27 :\n",
    "    message = \"過重\"\n",
    "elif  30 <= bmi < 35 :\n",
    "    message = \"中度肥胖\"\n",
    "elif bmi >= 35 :\n",
    "    message = \"重度肥胖\"\n",
    "elif bmi < 18.5 :\n",
    "    message = \"體重過輕\"\n",
    "elif 27 <= bmi < 30 :\n",
    "    message = \"輕度肥胖\"\n",
    "    \n",
    "print(f\"提示:{message}\")"
   ]
  },
  {
   "cell_type": "code",
   "execution_count": 8,
   "metadata": {},
   "outputs": [
    {
     "name": "stdout",
     "output_type": "stream",
     "text": [
      "0\n",
      "1\n",
      "2\n",
      "3\n",
      "4\n"
     ]
    }
   ],
   "source": [
    "# 迴圈\n",
    "# for x in range(5)\n",
    "# x = 自訂的變數\n",
    "# for = 程式區塊，明確告知執行的次數 \n",
    "\n",
    "for x in range(5) : \n",
    "    print(x)\n",
    "    "
   ]
  },
  {
   "cell_type": "code",
   "execution_count": 11,
   "metadata": {},
   "outputs": [
    {
     "name": "stdout",
     "output_type": "stream",
     "text": [
      "15\n",
      "16\n",
      "17\n",
      "18\n",
      "19\n"
     ]
    }
   ],
   "source": [
    "for x in range(15,20) :\n",
    "    print(x)"
   ]
  },
  {
   "cell_type": "code",
   "execution_count": 12,
   "metadata": {},
   "outputs": [
    {
     "name": "stdout",
     "output_type": "stream",
     "text": [
      "1\n",
      "3\n",
      "5\n",
      "7\n",
      "9\n"
     ]
    }
   ],
   "source": [
    "for x in range(1,10,2) : \n",
    "    print(x)"
   ]
  },
  {
   "cell_type": "code",
   "execution_count": 13,
   "metadata": {},
   "outputs": [
    {
     "name": "stdout",
     "output_type": "stream",
     "text": [
      "1~100的加總是5050\n"
     ]
    }
   ],
   "source": [
    "# 1~100的加總是多少\n",
    "# +=就是複合指令運算子\n",
    "total = 0\n",
    "for x in range(1,101) : \n",
    "    total += x\n",
    "\n",
    "print(f\"1~100的加總是{total}\")"
   ]
  },
  {
   "cell_type": "code",
   "execution_count": 15,
   "metadata": {},
   "outputs": [
    {
     "name": "stdout",
     "output_type": "stream",
     "text": [
      "偶數總和是:2550\n",
      "奇數總和是:2500\n"
     ]
    }
   ],
   "source": [
    "# 1~100內的偶數加總和奇數加總各是多少 ?\n",
    "oddTotal = 0\n",
    "evenTotal = 0\n",
    "for x in range (1,101) : \n",
    "    if x % 2 == 0 :\n",
    "        evenTotal += x\n",
    "    else :\n",
    "        oddTotal += x\n",
    "\n",
    "print(f\"偶數總和是:{evenTotal}\")\n",
    "print(f\"奇數總和是:{oddTotal}\")"
   ]
  },
  {
   "cell_type": "code",
   "execution_count": 16,
   "metadata": {},
   "outputs": [
    {
     "name": "stdout",
     "output_type": "stream",
     "text": [
      "54~2036偶數總和是:1036640\n",
      "54~2036奇數總和是:1035595\n"
     ]
    }
   ],
   "source": [
    "start = int(input(\"請輸入起始值\"))\n",
    "end = int(input(\"請輸入最終值\"))\n",
    "\n",
    "oddTotal = 0\n",
    "evenTotal = 0\n",
    "for x in range (start,end+1) : \n",
    "    if x % 2 == 0 :\n",
    "        evenTotal += x\n",
    "    else :\n",
    "        oddTotal += x\n",
    "\n",
    "print(f\"{start}~{end}偶數總和是:{evenTotal}\")\n",
    "print(f\"{start}~{end}奇數總和是:{oddTotal}\")"
   ]
  },
  {
   "cell_type": "code",
   "execution_count": 17,
   "metadata": {},
   "outputs": [
    {
     "name": "stdout",
     "output_type": "stream",
     "text": [
      "i=1\n",
      "j=1\n",
      "j=2\n",
      "j=3\n",
      "j=4\n",
      "j=5\n",
      "j=6\n",
      "j=7\n",
      "j=8\n",
      "j=9\n",
      "i=2\n",
      "j=1\n",
      "j=2\n",
      "j=3\n",
      "j=4\n",
      "j=5\n",
      "j=6\n",
      "j=7\n",
      "j=8\n",
      "j=9\n",
      "i=3\n",
      "j=1\n",
      "j=2\n",
      "j=3\n",
      "j=4\n",
      "j=5\n",
      "j=6\n",
      "j=7\n",
      "j=8\n",
      "j=9\n",
      "i=4\n",
      "j=1\n",
      "j=2\n",
      "j=3\n",
      "j=4\n",
      "j=5\n",
      "j=6\n",
      "j=7\n",
      "j=8\n",
      "j=9\n",
      "i=5\n",
      "j=1\n",
      "j=2\n",
      "j=3\n",
      "j=4\n",
      "j=5\n",
      "j=6\n",
      "j=7\n",
      "j=8\n",
      "j=9\n",
      "i=6\n",
      "j=1\n",
      "j=2\n",
      "j=3\n",
      "j=4\n",
      "j=5\n",
      "j=6\n",
      "j=7\n",
      "j=8\n",
      "j=9\n",
      "i=7\n",
      "j=1\n",
      "j=2\n",
      "j=3\n",
      "j=4\n",
      "j=5\n",
      "j=6\n",
      "j=7\n",
      "j=8\n",
      "j=9\n",
      "i=8\n",
      "j=1\n",
      "j=2\n",
      "j=3\n",
      "j=4\n",
      "j=5\n",
      "j=6\n",
      "j=7\n",
      "j=8\n",
      "j=9\n",
      "i=9\n",
      "j=1\n",
      "j=2\n",
      "j=3\n",
      "j=4\n",
      "j=5\n",
      "j=6\n",
      "j=7\n",
      "j=8\n",
      "j=9\n"
     ]
    }
   ],
   "source": [
    "# 有巢狀判斷就會有巢狀迴圈\n",
    "# 巢狀迴圈又分成內部迴圈和外部迴圈\n",
    "\n",
    "for i in range(1,10) :\n",
    "    print(f\"i={i}\")\n",
    "    for j in range(1,10) :\n",
    "        print(f\"j={j}\")"
   ]
  },
  {
   "cell_type": "code",
   "execution_count": 18,
   "metadata": {},
   "outputs": [
    {
     "name": "stdout",
     "output_type": "stream",
     "text": [
      "1-2-3-4-5-6.\n"
     ]
    }
   ],
   "source": [
    "print(1,2,3,4,5,6, sep='-', end='.\\n')"
   ]
  },
  {
   "cell_type": "code",
   "execution_count": 21,
   "metadata": {},
   "outputs": [
    {
     "name": "stdout",
     "output_type": "stream",
     "text": [
      "i=1\n",
      "j=1j=2j=3j=4j=5j=6j=7j=8j=9i=2\n",
      "j=1j=2j=3j=4j=5j=6j=7j=8j=9i=3\n",
      "j=1j=2j=3j=4j=5j=6j=7j=8j=9i=4\n",
      "j=1j=2j=3j=4j=5j=6j=7j=8j=9i=5\n",
      "j=1j=2j=3j=4j=5j=6j=7j=8j=9i=6\n",
      "j=1j=2j=3j=4j=5j=6j=7j=8j=9i=7\n",
      "j=1j=2j=3j=4j=5j=6j=7j=8j=9i=8\n",
      "j=1j=2j=3j=4j=5j=6j=7j=8j=9i=9\n",
      "j=1j=2j=3j=4j=5j=6j=7j=8j=9"
     ]
    }
   ],
   "source": [
    "for i in range(1,10) :\n",
    "    print(f\"i={i}\")\n",
    "    for j in range(1,10) :\n",
    "        print(f\"j={j}\",end='')\n",
    "    "
   ]
  },
  {
   "cell_type": "code",
   "execution_count": 22,
   "metadata": {},
   "outputs": [
    {
     "name": "stdout",
     "output_type": "stream",
     "text": [
      "i=1\n",
      "j=1j=2j=3j=4j=5j=6j=7j=8j=9\n",
      "i=2\n",
      "j=1j=2j=3j=4j=5j=6j=7j=8j=9\n",
      "i=3\n",
      "j=1j=2j=3j=4j=5j=6j=7j=8j=9\n",
      "i=4\n",
      "j=1j=2j=3j=4j=5j=6j=7j=8j=9\n",
      "i=5\n",
      "j=1j=2j=3j=4j=5j=6j=7j=8j=9\n",
      "i=6\n",
      "j=1j=2j=3j=4j=5j=6j=7j=8j=9\n",
      "i=7\n",
      "j=1j=2j=3j=4j=5j=6j=7j=8j=9\n",
      "i=8\n",
      "j=1j=2j=3j=4j=5j=6j=7j=8j=9\n",
      "i=9\n",
      "j=1j=2j=3j=4j=5j=6j=7j=8j=9\n"
     ]
    }
   ],
   "source": [
    "for i in range(1,10) :\n",
    "    print(f\"i={i}\")\n",
    "    for j in range(1,10) :\n",
    "        print(f\"j={j}\",end='')\n",
    "    print()"
   ]
  },
  {
   "cell_type": "code",
   "execution_count": 25,
   "metadata": {},
   "outputs": [
    {
     "name": "stdout",
     "output_type": "stream",
     "text": [
      "1*1=11*2=21*3=31*4=41*5=51*6=61*7=71*8=81*9=9\n",
      "2*1=22*2=42*3=62*4=82*5=102*6=122*7=142*8=162*9=18\n",
      "3*1=33*2=63*3=93*4=123*5=153*6=183*7=213*8=243*9=27\n",
      "4*1=44*2=84*3=124*4=164*5=204*6=244*7=284*8=324*9=36\n",
      "5*1=55*2=105*3=155*4=205*5=255*6=305*7=355*8=405*9=45\n",
      "6*1=66*2=126*3=186*4=246*5=306*6=366*7=426*8=486*9=54\n",
      "7*1=77*2=147*3=217*4=287*5=357*6=427*7=497*8=567*9=63\n",
      "8*1=88*2=168*3=248*4=328*5=408*6=488*7=568*8=648*9=72\n",
      "9*1=99*2=189*3=279*4=369*5=459*6=549*7=639*8=729*9=81\n"
     ]
    }
   ],
   "source": [
    "# 九九乘法表\n",
    "for i in range(1,10) :\n",
    "    for j in range(1,10) :\n",
    "        print(f\"{i}*{j}={i*j}\",end='')\n",
    "    print()"
   ]
  },
  {
   "cell_type": "code",
   "execution_count": 27,
   "metadata": {},
   "outputs": [
    {
     "name": "stdout",
     "output_type": "stream",
     "text": [
      "1 * 1= 1 1 * 2= 2 1 * 3= 3 1 * 4= 4 1 * 5= 5 1 * 6= 6 1 * 7= 7 1 * 8= 8 1 * 9= 9 \n",
      "2 * 1= 2 2 * 2= 4 2 * 3= 6 2 * 4= 8 2 * 5=10 2 * 6=12 2 * 7=14 2 * 8=16 2 * 9=18 \n",
      "3 * 1= 3 3 * 2= 6 3 * 3= 9 3 * 4=12 3 * 5=15 3 * 6=18 3 * 7=21 3 * 8=24 3 * 9=27 \n",
      "4 * 1= 4 4 * 2= 8 4 * 3=12 4 * 4=16 4 * 5=20 4 * 6=24 4 * 7=28 4 * 8=32 4 * 9=36 \n",
      "5 * 1= 5 5 * 2=10 5 * 3=15 5 * 4=20 5 * 5=25 5 * 6=30 5 * 7=35 5 * 8=40 5 * 9=45 \n",
      "6 * 1= 6 6 * 2=12 6 * 3=18 6 * 4=24 6 * 5=30 6 * 6=36 6 * 7=42 6 * 8=48 6 * 9=54 \n",
      "7 * 1= 7 7 * 2=14 7 * 3=21 7 * 4=28 7 * 5=35 7 * 6=42 7 * 7=49 7 * 8=56 7 * 9=63 \n",
      "8 * 1= 8 8 * 2=16 8 * 3=24 8 * 4=32 8 * 5=40 8 * 6=48 8 * 7=56 8 * 8=64 8 * 9=72 \n",
      "9 * 1= 9 9 * 2=18 9 * 3=27 9 * 4=36 9 * 5=45 9 * 6=54 9 * 7=63 9 * 8=72 9 * 9=81 \n"
     ]
    }
   ],
   "source": [
    "# <2d空兩格文字靠左；>2d空兩格文字靠右(預設就是靠右可以不用寫>2d)\n",
    "for i in range(1,10) :\n",
    "    for j in range(1,10) :\n",
    "        print(f\"{i:<2d}*{j:>2d}={i*j:2d}\",end=' ')\n",
    "    print()"
   ]
  },
  {
   "cell_type": "code",
   "execution_count": 33,
   "metadata": {},
   "outputs": [
    {
     "name": "stdout",
     "output_type": "stream",
     "text": [
      "0\n",
      "1\n",
      "2\n",
      "3\n",
      "4\n"
     ]
    }
   ],
   "source": [
    "# break 跳出迴圈\n",
    "for i in range(10) :\n",
    "    if i == 5 :\n",
    "        break\n",
    "    print(i)"
   ]
  },
  {
   "cell_type": "code",
   "execution_count": 35,
   "metadata": {},
   "outputs": [
    {
     "name": "stdout",
     "output_type": "stream",
     "text": [
      "1 2 3 4 5 6 7 8 9 10 11 12 13 14 15 16 17 18 19 20 21 22 23 24 25 26 27 28 29 30 31 32 33 34 35 36 37 38 39 40 41 42 43 44 45 46 47 48 49 50 51 52 53 54 55 56 57 58 59 60 61 62 63 64 65 66 67 68 69 70 71 72 73 74 75 76 77 78 79 80 81 82 83 84 85 86 87 88 89 90 91 92 93 94 95 96 97 98 99 100 \n"
     ]
    }
   ],
   "source": [
    "for i in range(1,101) : \n",
    "    print(i,end =' ')\n",
    "print()"
   ]
  },
  {
   "cell_type": "code",
   "execution_count": 42,
   "metadata": {},
   "outputs": [
    {
     "name": "stdout",
     "output_type": "stream",
     "text": [
      "2 3 4 5 6 7 8 9 10 11 12 13 14 15 16 17 18 19 20 21 22 23 24 25 26 27 28 29 30 31 32 33 34 35 36 37 38 39 40 41 42 43 44 45 46 47 48 49 50 51 52 53 54 55 56 57 58 59 60 61 62 63 64 65 66 67 68 69 70 71 72 73 74 75 76 77 78 79 80 81 82 83 84 85 86 87 88 89 90 91 92 93 94 95 96 97 98 99 100 \n"
     ]
    }
   ],
   "source": [
    "for i in range(1,101) : \n",
    "    if i == 1 :\n",
    "        continue\n",
    "    print(i, end =' ')\n",
    "print()"
   ]
  },
  {
   "cell_type": "code",
   "execution_count": 44,
   "metadata": {},
   "outputs": [
    {
     "name": "stdout",
     "output_type": "stream",
     "text": [
      "2 3 5 7 11 13 17 19 23 29 31 37 41 43 47 53 59 61 67 71 73 79 83 89 97 \n"
     ]
    }
   ],
   "source": [
    "# 請求1~100的質數\n",
    "for i in range(1,101) :\n",
    "    is_prime = True\n",
    "    if i == 1:\n",
    "        continue\n",
    "    for j in range(2,i) :\n",
    "        if i % j == 0 :\n",
    "            is_prime = False\n",
    "    if is_prime:\n",
    "        print(i, end =' ')\n",
    "print()\n"
   ]
  },
  {
   "cell_type": "code",
   "execution_count": 47,
   "metadata": {},
   "outputs": [
    {
     "name": "stdout",
     "output_type": "stream",
     "text": [
      "2 3 5 7 11 13 17 19 23 29 31 37 41 43 47 53 59 61 67 71 73 79 83 89 97 \n"
     ]
    }
   ],
   "source": [
    "for i in range(1,101) :\n",
    "    is_prime = True\n",
    "    if i == 1:\n",
    "        continue\n",
    "    for j in range(2,i) :\n",
    "        if i % j == 0 :\n",
    "            is_prime = False\n",
    "            break\n",
    "    if is_prime:\n",
    "        print(i, end =' ')\n",
    "print()"
   ]
  },
  {
   "cell_type": "code",
   "execution_count": null,
   "metadata": {},
   "outputs": [],
   "source": []
  }
 ],
 "metadata": {
  "kernelspec": {
   "display_name": "Python 3",
   "language": "python",
   "name": "python3"
  },
  "language_info": {
   "codemirror_mode": {
    "name": "ipython",
    "version": 3
   },
   "file_extension": ".py",
   "mimetype": "text/x-python",
   "name": "python",
   "nbconvert_exporter": "python",
   "pygments_lexer": "ipython3",
   "version": "3.10.13"
  }
 },
 "nbformat": 4,
 "nbformat_minor": 2
}
