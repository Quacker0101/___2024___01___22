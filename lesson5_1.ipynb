{
 "cells": [
  {
   "cell_type": "code",
   "execution_count": null,
   "metadata": {},
   "outputs": [],
   "source": [
    "try:\n",
    "    score = int(input(\"請輸入學生分數\\\n",
    "                      (最高分300分):\"))\n",
    "    print(f\"分數是(score)\")\n",
    "except:\n",
    "    print(\"請輸入格式有錯誤\")"
   ]
  },
  {
   "cell_type": "code",
   "execution_count": 3,
   "metadata": {},
   "outputs": [
    {
     "name": "stdout",
     "output_type": "stream",
     "text": [
      "學生等級是:(grade)\n"
     ]
    }
   ],
   "source": [
    "#下列為換算成績等級的程式碼，換算規則如下:\n",
    "\n",
    "#90(含)~100分為(優)\n",
    "#88(含)~89分為(甲)\n",
    "#70(含)~79分為(乙)\n",
    "#60(含)~69分為(丙)\n",
    "#0分(含)~59分為(丁)\n",
    "\n",
    "score =int(input(\"請輸入學生分數0~100\"))\n",
    "grade =\"\"\n",
    "\n",
    "if score >=90:\n",
    "    grade = \"優\"\n",
    "else :\n",
    "    if score >=80:\n",
    "        grade = \"甲\"\n",
    "    else :\n",
    "        if score >=70:\n",
    "            grade = \"乙\"\n",
    "        else :\n",
    "            if score >=60:\n",
    "                grade = \"丙\"\n",
    "            else :\n",
    "                grade = \"丁\"\n",
    "print(f\"學生等級是:(grade)\")\n",
    "\n",
    "\n",
    "            "
   ]
  }
 ],
 "metadata": {
  "kernelspec": {
   "display_name": "Python 3",
   "language": "python",
   "name": "python3"
  },
  "language_info": {
   "codemirror_mode": {
    "name": "ipython",
    "version": 3
   },
   "file_extension": ".py",
   "mimetype": "text/x-python",
   "name": "python",
   "nbconvert_exporter": "python",
   "pygments_lexer": "ipython3",
   "version": "3.10.13"
  }
 },
 "nbformat": 4,
 "nbformat_minor": 2
}
