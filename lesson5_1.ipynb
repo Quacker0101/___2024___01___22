{
 "cells": [
  {
   "cell_type": "code",
   "execution_count": null,
   "metadata": {},
   "outputs": [],
   "source": [
    "try:\n",
    "    score = int(input(\"請輸入學生分數\\\n",
    "                      (最高分300分):\"))\n",
    "    print(f\"分數是(score)\")\n",
    "except:\n",
    "    print(\"請輸入格式有錯誤\")"
   ]
  },
  {
   "cell_type": "code",
   "execution_count": 1,
   "metadata": {},
   "outputs": [
    {
     "name": "stdout",
     "output_type": "stream",
     "text": [
      "學生等級是:丁\n"
     ]
    }
   ],
   "source": [
    "#下列為換算成績等級的程式碼，換算規則如下:\n",
    "\n",
    "#90(含)~100分為(優)\n",
    "#88(含)~89分為(甲)\n",
    "#70(含)~79分為(乙)\n",
    "#60(含)~69分為(丙)\n",
    "#0分(含)~59分為(丁)\n",
    "\n",
    "score =int(input(\"請輸入學生分數0~100\"))\n",
    "grade =\"\"\n",
    "\n",
    "if score >=90:\n",
    "    grade = \"優\"\n",
    "else :\n",
    "    if score >=80:\n",
    "        grade = \"甲\"\n",
    "    else :\n",
    "        if score >=70:\n",
    "            grade = \"乙\"\n",
    "        else :\n",
    "            if score >=60:\n",
    "                grade = \"丙\"\n",
    "            else :\n",
    "                grade = \"丁\"\n",
    "print(f\"學生等級是:{grade}\")\n",
    "\n",
    "\n",
    "            "
   ]
  },
  {
   "cell_type": "code",
   "execution_count": 2,
   "metadata": {},
   "outputs": [
    {
     "name": "stdout",
     "output_type": "stream",
     "text": [
      "第2層\n",
      "第1層\n",
      "學生等級是:乙\n"
     ]
    }
   ],
   "source": [
    "score =int(input(\"請輸入學生分數0~100\"))\n",
    "grade =\"\"\n",
    "\n",
    "if score >=90:\n",
    "    grade = \"優\"\n",
    "else :\n",
    "    if score >=80:\n",
    "        grade = \"甲\"\n",
    "    else :\n",
    "        if score >=70:\n",
    "            grade = \"乙\"\n",
    "        else :\n",
    "            if score >=60:\n",
    "                grade = \"丙\"\n",
    "            else :\n",
    "                grade = \"丁\"\n",
    "                print(\"第4層\")\n",
    "            print(\"第3層\")\n",
    "        print(\"第2層\")\n",
    "    print(\"第1層\")\n",
    "print(f\"學生等級是:{grade}\")"
   ]
  },
  {
   "cell_type": "code",
   "execution_count": 3,
   "metadata": {},
   "outputs": [
    {
     "name": "stdout",
     "output_type": "stream",
     "text": [
      "學生等級是:丙\n"
     ]
    }
   ],
   "source": [
    "score =int(input(\"請輸入學生分數0~100\"))\n",
    "grade =\"\"\n",
    "\n",
    "if score >=90:\n",
    "    grade = \"優\"\n",
    "elif score >=80:\n",
    "    grade = \"甲\"\n",
    "elif score >=70:\n",
    "    grade = \"乙\"\n",
    "elif score >=60:\n",
    "    grade = \"丙\"\n",
    "else :\n",
    "    grade = \"丁\"\n",
    "print(f\"學生等級是:{grade}\")"
   ]
  },
  {
   "cell_type": "code",
   "execution_count": 6,
   "metadata": {},
   "outputs": [
    {
     "name": "stdout",
     "output_type": "stream",
     "text": [
      "root=1.3480061545972777\n"
     ]
    }
   ],
   "source": [
    "# 如果x不是負數，則回傳值為 x **(1/y)。\n",
    "# 如果x是負數而且為偶數，則回傳值為\"0數\"\n",
    "# 如果x是負數而且為奇數，則回傳值為(-x) **(1/y)\n",
    "input(\"請輸入X的整數:\")\n",
    "\n",
    "x = int(input(\"請輸入X的整數\"))\n",
    "y = int(input(\"請輸入y的整數\"))\n",
    "root = 0\n",
    "if x >=0 :\n",
    "    root = x **(1/y)\n",
    "else :\n",
    "    if x % 2 == 0:\n",
    "        root = 0\n",
    "    else :\n",
    "        root = (-x) **(1/y)\n",
    "\n",
    "print(f\"root={root}\")"
   ]
  },
  {
   "cell_type": "code",
   "execution_count": 7,
   "metadata": {},
   "outputs": [
    {
     "name": "stdout",
     "output_type": "stream",
     "text": [
      "root=1.3480061545972777\n"
     ]
    }
   ],
   "source": [
    "input(\"請輸入X的整數:\")\n",
    "\n",
    "x = int(input(\"請輸入X的整數\"))\n",
    "y = int(input(\"請輸入y的整數\"))\n",
    "root = 0\n",
    "if x >=0 :\n",
    "    root = x **(1/y)\n",
    "elif x % 2 == 0:\n",
    "    root = 0\n",
    "else :\n",
    "    root = (-x) **(1/y)\n",
    "\n",
    "print(f\"root={root}\")"
   ]
  },
  {
   "cell_type": "code",
   "execution_count": 8,
   "metadata": {},
   "outputs": [
    {
     "name": "stdout",
     "output_type": "stream",
     "text": [
      "格式錯誤\n"
     ]
    }
   ],
   "source": [
    "try :\n",
    "    x = int(input(\"請輸入X的整數\"))\n",
    "    y = int(input(\"請輸入y的整數(y不可以是0:)\"))\n",
    "    root = 0\n",
    "    if x >=0 :\n",
    "        root = x **(1/y)\n",
    "    elif x % 2 == 0:\n",
    "        root = 0\n",
    "    else :\n",
    "        root = (-x) **(1/y)\n",
    "\n",
    "    print(f\"root={root}\")\n",
    "except : \n",
    "    print(\"格式錯誤\")"
   ]
  },
  {
   "cell_type": "code",
   "execution_count": 10,
   "metadata": {},
   "outputs": [
    {
     "name": "stdout",
     "output_type": "stream",
     "text": [
      "輸入x的格式錯誤\n"
     ]
    }
   ],
   "source": [
    "try :\n",
    "    x = int(input(\"請輸入X的整數\"))   \n",
    "except : \n",
    "    print(\"輸入x的格式錯誤\")\n",
    "else :\n",
    "    try :\n",
    "        y = int(input(\"請輸入y的整數(y不可以是0):\"))\n",
    "        root = 0\n",
    "        if x >=0 :\n",
    "            root = x **(1/y)\n",
    "        elif x % 2 == 0:\n",
    "            root = 0\n",
    "        else :\n",
    "            root = (-x) **(1/y)\n",
    "\n",
    "        print(f\"root={root}\")\n",
    "    except :\n",
    "        print(\"輸入y的格式錯誤\")"
   ]
  }
 ],
 "metadata": {
  "kernelspec": {
   "display_name": "Python 3",
   "language": "python",
   "name": "python3"
  },
  "language_info": {
   "codemirror_mode": {
    "name": "ipython",
    "version": 3
   },
   "file_extension": ".py",
   "mimetype": "text/x-python",
   "name": "python",
   "nbconvert_exporter": "python",
   "pygments_lexer": "ipython3",
   "version": "3.10.13"
  }
 },
 "nbformat": 4,
 "nbformat_minor": 2
}
